{
  "nbformat": 4,
  "nbformat_minor": 0,
  "metadata": {
    "colab": {
      "provenance": []
    },
    "kernelspec": {
      "name": "python3",
      "display_name": "Python 3"
    },
    "language_info": {
      "name": "python"
    }
  },
  "cells": [
    {
      "cell_type": "code",
      "execution_count": 3,
      "metadata": {
        "colab": {
          "base_uri": "https://localhost:8080/"
        },
        "id": "J8vkHjFbDu8m",
        "outputId": "1842179d-6661-4585-e90f-732e2ac1fe3b"
      },
      "outputs": [
        {
          "output_type": "stream",
          "name": "stdout",
          "text": [
            "Requirement already satisfied: shap in /usr/local/lib/python3.10/dist-packages (0.46.0)\n",
            "Requirement already satisfied: numpy in /usr/local/lib/python3.10/dist-packages (from shap) (1.26.4)\n",
            "Requirement already satisfied: scipy in /usr/local/lib/python3.10/dist-packages (from shap) (1.13.1)\n",
            "Requirement already satisfied: scikit-learn in /usr/local/lib/python3.10/dist-packages (from shap) (1.5.2)\n",
            "Requirement already satisfied: pandas in /usr/local/lib/python3.10/dist-packages (from shap) (2.2.2)\n",
            "Requirement already satisfied: tqdm>=4.27.0 in /usr/local/lib/python3.10/dist-packages (from shap) (4.66.6)\n",
            "Requirement already satisfied: packaging>20.9 in /usr/local/lib/python3.10/dist-packages (from shap) (24.2)\n",
            "Requirement already satisfied: slicer==0.0.8 in /usr/local/lib/python3.10/dist-packages (from shap) (0.0.8)\n",
            "Requirement already satisfied: numba in /usr/local/lib/python3.10/dist-packages (from shap) (0.60.0)\n",
            "Requirement already satisfied: cloudpickle in /usr/local/lib/python3.10/dist-packages (from shap) (3.1.0)\n",
            "Requirement already satisfied: llvmlite<0.44,>=0.43.0dev0 in /usr/local/lib/python3.10/dist-packages (from numba->shap) (0.43.0)\n",
            "Requirement already satisfied: python-dateutil>=2.8.2 in /usr/local/lib/python3.10/dist-packages (from pandas->shap) (2.8.2)\n",
            "Requirement already satisfied: pytz>=2020.1 in /usr/local/lib/python3.10/dist-packages (from pandas->shap) (2024.2)\n",
            "Requirement already satisfied: tzdata>=2022.7 in /usr/local/lib/python3.10/dist-packages (from pandas->shap) (2024.2)\n",
            "Requirement already satisfied: joblib>=1.2.0 in /usr/local/lib/python3.10/dist-packages (from scikit-learn->shap) (1.4.2)\n",
            "Requirement already satisfied: threadpoolctl>=3.1.0 in /usr/local/lib/python3.10/dist-packages (from scikit-learn->shap) (3.5.0)\n",
            "Requirement already satisfied: six>=1.5 in /usr/local/lib/python3.10/dist-packages (from python-dateutil>=2.8.2->pandas->shap) (1.16.0)\n"
          ]
        }
      ],
      "source": [
        "import numpy as np\n",
        "import numpy.random as rand\n",
        "import math\n",
        "import random\n",
        "import pandas as pd\n",
        "import matplotlib.pyplot as plt\n",
        "import re\n",
        "import nltk\n",
        "from nltk.corpus import stopwords\n",
        "import tensorflow as tf\n",
        "from keras import backend as K\n",
        "from sklearn.model_selection import train_test_split\n",
        "from sklearn.metrics import confusion_matrix, matthews_corrcoef\n",
        "from torch.utils.data import TensorDataset, DataLoader\n",
        "from itertools import chain\n",
        "!pip install shap\n",
        "import shap\n",
        "from collections import Counter\n",
        "from imblearn.combine import SMOTETomek, SMOTEENN\n",
        "from imblearn.over_sampling import SMOTEN, RandomOverSampler, ADASYN\n",
        "import torch\n",
        "import torch.nn as nn\n",
        "import torch.optim as optim\n",
        "import torch.nn.functional as F\n",
        "plt.style.use('dark_background')"
      ]
    },
    {
      "cell_type": "code",
      "source": [
        "if torch.cuda.is_available():\n",
        "    device = torch.device(\"cuda\")\n",
        "    print('Script is running with GPU')\n",
        "else:\n",
        "  device = torch.device(\"cpu\")\n",
        "  print('Script is running WITHOUT GPU')"
      ],
      "metadata": {
        "id": "TbT3JI73Q7lq"
      },
      "execution_count": null,
      "outputs": []
    },
    {
      "cell_type": "code",
      "source": [
        "nltk.download('punkt')\n",
        "nltk.download('words')\n",
        "nltk.download('stopwords')"
      ],
      "metadata": {
        "colab": {
          "base_uri": "https://localhost:8080/"
        },
        "id": "Ww7ISDiOD6Dx",
        "outputId": "12326b60-06ec-4dce-9ac9-1c2e47daf8f2"
      },
      "execution_count": 4,
      "outputs": [
        {
          "output_type": "stream",
          "name": "stderr",
          "text": [
            "[nltk_data] Downloading package punkt to /root/nltk_data...\n",
            "[nltk_data]   Unzipping tokenizers/punkt.zip.\n",
            "[nltk_data] Downloading package words to /root/nltk_data...\n",
            "[nltk_data]   Unzipping corpora/words.zip.\n",
            "[nltk_data] Downloading package stopwords to /root/nltk_data...\n",
            "[nltk_data]   Unzipping corpora/stopwords.zip.\n"
          ]
        },
        {
          "output_type": "execute_result",
          "data": {
            "text/plain": [
              "True"
            ]
          },
          "metadata": {},
          "execution_count": 4
        }
      ]
    },
    {
      "cell_type": "code",
      "source": [
        "df = pd.read_csv('orthodata.csv')"
      ],
      "metadata": {
        "id": "mVQ_eBAmERes"
      },
      "execution_count": 9,
      "outputs": []
    },
    {
      "cell_type": "code",
      "source": [
        "df.shape"
      ],
      "metadata": {
        "colab": {
          "base_uri": "https://localhost:8080/"
        },
        "id": "7DB0Qh6fEeas",
        "outputId": "99bb98e1-3e51-4c05-f468-055fff1dbc5f"
      },
      "execution_count": 10,
      "outputs": [
        {
          "output_type": "execute_result",
          "data": {
            "text/plain": [
              "(52447, 3)"
            ]
          },
          "metadata": {},
          "execution_count": 10
        }
      ]
    },
    {
      "cell_type": "code",
      "source": [
        "df = df[df['words'].str.len() <= 10]\n",
        "df"
      ],
      "metadata": {
        "colab": {
          "base_uri": "https://localhost:8080/",
          "height": 423
        },
        "id": "iJt46PQpEifZ",
        "outputId": "f00dbf62-ebe7-4fb0-ff21-f3a22de2a6be"
      },
      "execution_count": 11,
      "outputs": [
        {
          "output_type": "execute_result",
          "data": {
            "text/plain": [
              "       Unnamed: 0     words       IPA\n",
              "0               0         a        eI\n",
              "1               1         a        eI\n",
              "2               2         a        eI\n",
              "3               3         A        eI\n",
              "4               4        AA      eIeI\n",
              "...           ...       ...       ...\n",
              "52442       52442  zoomlens   zumlEnz\n",
              "52443       52443  zoophyte  z@U@faIt\n",
              "52444       52444  zootsuit    zutsut\n",
              "52445       52445    Zouave      zuAv\n",
              "52446       52446  zucchini    zUkinI\n",
              "\n",
              "[40402 rows x 3 columns]"
            ],
            "text/html": [
              "\n",
              "  <div id=\"df-53bd2eb8-ad52-4e8a-849a-e906cd862e65\" class=\"colab-df-container\">\n",
              "    <div>\n",
              "<style scoped>\n",
              "    .dataframe tbody tr th:only-of-type {\n",
              "        vertical-align: middle;\n",
              "    }\n",
              "\n",
              "    .dataframe tbody tr th {\n",
              "        vertical-align: top;\n",
              "    }\n",
              "\n",
              "    .dataframe thead th {\n",
              "        text-align: right;\n",
              "    }\n",
              "</style>\n",
              "<table border=\"1\" class=\"dataframe\">\n",
              "  <thead>\n",
              "    <tr style=\"text-align: right;\">\n",
              "      <th></th>\n",
              "      <th>Unnamed: 0</th>\n",
              "      <th>words</th>\n",
              "      <th>IPA</th>\n",
              "    </tr>\n",
              "  </thead>\n",
              "  <tbody>\n",
              "    <tr>\n",
              "      <th>0</th>\n",
              "      <td>0</td>\n",
              "      <td>a</td>\n",
              "      <td>eI</td>\n",
              "    </tr>\n",
              "    <tr>\n",
              "      <th>1</th>\n",
              "      <td>1</td>\n",
              "      <td>a</td>\n",
              "      <td>eI</td>\n",
              "    </tr>\n",
              "    <tr>\n",
              "      <th>2</th>\n",
              "      <td>2</td>\n",
              "      <td>a</td>\n",
              "      <td>eI</td>\n",
              "    </tr>\n",
              "    <tr>\n",
              "      <th>3</th>\n",
              "      <td>3</td>\n",
              "      <td>A</td>\n",
              "      <td>eI</td>\n",
              "    </tr>\n",
              "    <tr>\n",
              "      <th>4</th>\n",
              "      <td>4</td>\n",
              "      <td>AA</td>\n",
              "      <td>eIeI</td>\n",
              "    </tr>\n",
              "    <tr>\n",
              "      <th>...</th>\n",
              "      <td>...</td>\n",
              "      <td>...</td>\n",
              "      <td>...</td>\n",
              "    </tr>\n",
              "    <tr>\n",
              "      <th>52442</th>\n",
              "      <td>52442</td>\n",
              "      <td>zoomlens</td>\n",
              "      <td>zumlEnz</td>\n",
              "    </tr>\n",
              "    <tr>\n",
              "      <th>52443</th>\n",
              "      <td>52443</td>\n",
              "      <td>zoophyte</td>\n",
              "      <td>z@U@faIt</td>\n",
              "    </tr>\n",
              "    <tr>\n",
              "      <th>52444</th>\n",
              "      <td>52444</td>\n",
              "      <td>zootsuit</td>\n",
              "      <td>zutsut</td>\n",
              "    </tr>\n",
              "    <tr>\n",
              "      <th>52445</th>\n",
              "      <td>52445</td>\n",
              "      <td>Zouave</td>\n",
              "      <td>zuAv</td>\n",
              "    </tr>\n",
              "    <tr>\n",
              "      <th>52446</th>\n",
              "      <td>52446</td>\n",
              "      <td>zucchini</td>\n",
              "      <td>zUkinI</td>\n",
              "    </tr>\n",
              "  </tbody>\n",
              "</table>\n",
              "<p>40402 rows × 3 columns</p>\n",
              "</div>\n",
              "    <div class=\"colab-df-buttons\">\n",
              "\n",
              "  <div class=\"colab-df-container\">\n",
              "    <button class=\"colab-df-convert\" onclick=\"convertToInteractive('df-53bd2eb8-ad52-4e8a-849a-e906cd862e65')\"\n",
              "            title=\"Convert this dataframe to an interactive table.\"\n",
              "            style=\"display:none;\">\n",
              "\n",
              "  <svg xmlns=\"http://www.w3.org/2000/svg\" height=\"24px\" viewBox=\"0 -960 960 960\">\n",
              "    <path d=\"M120-120v-720h720v720H120Zm60-500h600v-160H180v160Zm220 220h160v-160H400v160Zm0 220h160v-160H400v160ZM180-400h160v-160H180v160Zm440 0h160v-160H620v160ZM180-180h160v-160H180v160Zm440 0h160v-160H620v160Z\"/>\n",
              "  </svg>\n",
              "    </button>\n",
              "\n",
              "  <style>\n",
              "    .colab-df-container {\n",
              "      display:flex;\n",
              "      gap: 12px;\n",
              "    }\n",
              "\n",
              "    .colab-df-convert {\n",
              "      background-color: #E8F0FE;\n",
              "      border: none;\n",
              "      border-radius: 50%;\n",
              "      cursor: pointer;\n",
              "      display: none;\n",
              "      fill: #1967D2;\n",
              "      height: 32px;\n",
              "      padding: 0 0 0 0;\n",
              "      width: 32px;\n",
              "    }\n",
              "\n",
              "    .colab-df-convert:hover {\n",
              "      background-color: #E2EBFA;\n",
              "      box-shadow: 0px 1px 2px rgba(60, 64, 67, 0.3), 0px 1px 3px 1px rgba(60, 64, 67, 0.15);\n",
              "      fill: #174EA6;\n",
              "    }\n",
              "\n",
              "    .colab-df-buttons div {\n",
              "      margin-bottom: 4px;\n",
              "    }\n",
              "\n",
              "    [theme=dark] .colab-df-convert {\n",
              "      background-color: #3B4455;\n",
              "      fill: #D2E3FC;\n",
              "    }\n",
              "\n",
              "    [theme=dark] .colab-df-convert:hover {\n",
              "      background-color: #434B5C;\n",
              "      box-shadow: 0px 1px 3px 1px rgba(0, 0, 0, 0.15);\n",
              "      filter: drop-shadow(0px 1px 2px rgba(0, 0, 0, 0.3));\n",
              "      fill: #FFFFFF;\n",
              "    }\n",
              "  </style>\n",
              "\n",
              "    <script>\n",
              "      const buttonEl =\n",
              "        document.querySelector('#df-53bd2eb8-ad52-4e8a-849a-e906cd862e65 button.colab-df-convert');\n",
              "      buttonEl.style.display =\n",
              "        google.colab.kernel.accessAllowed ? 'block' : 'none';\n",
              "\n",
              "      async function convertToInteractive(key) {\n",
              "        const element = document.querySelector('#df-53bd2eb8-ad52-4e8a-849a-e906cd862e65');\n",
              "        const dataTable =\n",
              "          await google.colab.kernel.invokeFunction('convertToInteractive',\n",
              "                                                    [key], {});\n",
              "        if (!dataTable) return;\n",
              "\n",
              "        const docLinkHtml = 'Like what you see? Visit the ' +\n",
              "          '<a target=\"_blank\" href=https://colab.research.google.com/notebooks/data_table.ipynb>data table notebook</a>'\n",
              "          + ' to learn more about interactive tables.';\n",
              "        element.innerHTML = '';\n",
              "        dataTable['output_type'] = 'display_data';\n",
              "        await google.colab.output.renderOutput(dataTable, element);\n",
              "        const docLink = document.createElement('div');\n",
              "        docLink.innerHTML = docLinkHtml;\n",
              "        element.appendChild(docLink);\n",
              "      }\n",
              "    </script>\n",
              "  </div>\n",
              "\n",
              "\n",
              "<div id=\"df-2135d3aa-cba7-42ba-854a-2e8d888f959c\">\n",
              "  <button class=\"colab-df-quickchart\" onclick=\"quickchart('df-2135d3aa-cba7-42ba-854a-2e8d888f959c')\"\n",
              "            title=\"Suggest charts\"\n",
              "            style=\"display:none;\">\n",
              "\n",
              "<svg xmlns=\"http://www.w3.org/2000/svg\" height=\"24px\"viewBox=\"0 0 24 24\"\n",
              "     width=\"24px\">\n",
              "    <g>\n",
              "        <path d=\"M19 3H5c-1.1 0-2 .9-2 2v14c0 1.1.9 2 2 2h14c1.1 0 2-.9 2-2V5c0-1.1-.9-2-2-2zM9 17H7v-7h2v7zm4 0h-2V7h2v10zm4 0h-2v-4h2v4z\"/>\n",
              "    </g>\n",
              "</svg>\n",
              "  </button>\n",
              "\n",
              "<style>\n",
              "  .colab-df-quickchart {\n",
              "      --bg-color: #E8F0FE;\n",
              "      --fill-color: #1967D2;\n",
              "      --hover-bg-color: #E2EBFA;\n",
              "      --hover-fill-color: #174EA6;\n",
              "      --disabled-fill-color: #AAA;\n",
              "      --disabled-bg-color: #DDD;\n",
              "  }\n",
              "\n",
              "  [theme=dark] .colab-df-quickchart {\n",
              "      --bg-color: #3B4455;\n",
              "      --fill-color: #D2E3FC;\n",
              "      --hover-bg-color: #434B5C;\n",
              "      --hover-fill-color: #FFFFFF;\n",
              "      --disabled-bg-color: #3B4455;\n",
              "      --disabled-fill-color: #666;\n",
              "  }\n",
              "\n",
              "  .colab-df-quickchart {\n",
              "    background-color: var(--bg-color);\n",
              "    border: none;\n",
              "    border-radius: 50%;\n",
              "    cursor: pointer;\n",
              "    display: none;\n",
              "    fill: var(--fill-color);\n",
              "    height: 32px;\n",
              "    padding: 0;\n",
              "    width: 32px;\n",
              "  }\n",
              "\n",
              "  .colab-df-quickchart:hover {\n",
              "    background-color: var(--hover-bg-color);\n",
              "    box-shadow: 0 1px 2px rgba(60, 64, 67, 0.3), 0 1px 3px 1px rgba(60, 64, 67, 0.15);\n",
              "    fill: var(--button-hover-fill-color);\n",
              "  }\n",
              "\n",
              "  .colab-df-quickchart-complete:disabled,\n",
              "  .colab-df-quickchart-complete:disabled:hover {\n",
              "    background-color: var(--disabled-bg-color);\n",
              "    fill: var(--disabled-fill-color);\n",
              "    box-shadow: none;\n",
              "  }\n",
              "\n",
              "  .colab-df-spinner {\n",
              "    border: 2px solid var(--fill-color);\n",
              "    border-color: transparent;\n",
              "    border-bottom-color: var(--fill-color);\n",
              "    animation:\n",
              "      spin 1s steps(1) infinite;\n",
              "  }\n",
              "\n",
              "  @keyframes spin {\n",
              "    0% {\n",
              "      border-color: transparent;\n",
              "      border-bottom-color: var(--fill-color);\n",
              "      border-left-color: var(--fill-color);\n",
              "    }\n",
              "    20% {\n",
              "      border-color: transparent;\n",
              "      border-left-color: var(--fill-color);\n",
              "      border-top-color: var(--fill-color);\n",
              "    }\n",
              "    30% {\n",
              "      border-color: transparent;\n",
              "      border-left-color: var(--fill-color);\n",
              "      border-top-color: var(--fill-color);\n",
              "      border-right-color: var(--fill-color);\n",
              "    }\n",
              "    40% {\n",
              "      border-color: transparent;\n",
              "      border-right-color: var(--fill-color);\n",
              "      border-top-color: var(--fill-color);\n",
              "    }\n",
              "    60% {\n",
              "      border-color: transparent;\n",
              "      border-right-color: var(--fill-color);\n",
              "    }\n",
              "    80% {\n",
              "      border-color: transparent;\n",
              "      border-right-color: var(--fill-color);\n",
              "      border-bottom-color: var(--fill-color);\n",
              "    }\n",
              "    90% {\n",
              "      border-color: transparent;\n",
              "      border-bottom-color: var(--fill-color);\n",
              "    }\n",
              "  }\n",
              "</style>\n",
              "\n",
              "  <script>\n",
              "    async function quickchart(key) {\n",
              "      const quickchartButtonEl =\n",
              "        document.querySelector('#' + key + ' button');\n",
              "      quickchartButtonEl.disabled = true;  // To prevent multiple clicks.\n",
              "      quickchartButtonEl.classList.add('colab-df-spinner');\n",
              "      try {\n",
              "        const charts = await google.colab.kernel.invokeFunction(\n",
              "            'suggestCharts', [key], {});\n",
              "      } catch (error) {\n",
              "        console.error('Error during call to suggestCharts:', error);\n",
              "      }\n",
              "      quickchartButtonEl.classList.remove('colab-df-spinner');\n",
              "      quickchartButtonEl.classList.add('colab-df-quickchart-complete');\n",
              "    }\n",
              "    (() => {\n",
              "      let quickchartButtonEl =\n",
              "        document.querySelector('#df-2135d3aa-cba7-42ba-854a-2e8d888f959c button');\n",
              "      quickchartButtonEl.style.display =\n",
              "        google.colab.kernel.accessAllowed ? 'block' : 'none';\n",
              "    })();\n",
              "  </script>\n",
              "</div>\n",
              "\n",
              "  <div id=\"id_e1c208e4-25c8-48ba-8724-038502b90a4a\">\n",
              "    <style>\n",
              "      .colab-df-generate {\n",
              "        background-color: #E8F0FE;\n",
              "        border: none;\n",
              "        border-radius: 50%;\n",
              "        cursor: pointer;\n",
              "        display: none;\n",
              "        fill: #1967D2;\n",
              "        height: 32px;\n",
              "        padding: 0 0 0 0;\n",
              "        width: 32px;\n",
              "      }\n",
              "\n",
              "      .colab-df-generate:hover {\n",
              "        background-color: #E2EBFA;\n",
              "        box-shadow: 0px 1px 2px rgba(60, 64, 67, 0.3), 0px 1px 3px 1px rgba(60, 64, 67, 0.15);\n",
              "        fill: #174EA6;\n",
              "      }\n",
              "\n",
              "      [theme=dark] .colab-df-generate {\n",
              "        background-color: #3B4455;\n",
              "        fill: #D2E3FC;\n",
              "      }\n",
              "\n",
              "      [theme=dark] .colab-df-generate:hover {\n",
              "        background-color: #434B5C;\n",
              "        box-shadow: 0px 1px 3px 1px rgba(0, 0, 0, 0.15);\n",
              "        filter: drop-shadow(0px 1px 2px rgba(0, 0, 0, 0.3));\n",
              "        fill: #FFFFFF;\n",
              "      }\n",
              "    </style>\n",
              "    <button class=\"colab-df-generate\" onclick=\"generateWithVariable('df')\"\n",
              "            title=\"Generate code using this dataframe.\"\n",
              "            style=\"display:none;\">\n",
              "\n",
              "  <svg xmlns=\"http://www.w3.org/2000/svg\" height=\"24px\"viewBox=\"0 0 24 24\"\n",
              "       width=\"24px\">\n",
              "    <path d=\"M7,19H8.4L18.45,9,17,7.55,7,17.6ZM5,21V16.75L18.45,3.32a2,2,0,0,1,2.83,0l1.4,1.43a1.91,1.91,0,0,1,.58,1.4,1.91,1.91,0,0,1-.58,1.4L9.25,21ZM18.45,9,17,7.55Zm-12,3A5.31,5.31,0,0,0,4.9,8.1,5.31,5.31,0,0,0,1,6.5,5.31,5.31,0,0,0,4.9,4.9,5.31,5.31,0,0,0,6.5,1,5.31,5.31,0,0,0,8.1,4.9,5.31,5.31,0,0,0,12,6.5,5.46,5.46,0,0,0,6.5,12Z\"/>\n",
              "  </svg>\n",
              "    </button>\n",
              "    <script>\n",
              "      (() => {\n",
              "      const buttonEl =\n",
              "        document.querySelector('#id_e1c208e4-25c8-48ba-8724-038502b90a4a button.colab-df-generate');\n",
              "      buttonEl.style.display =\n",
              "        google.colab.kernel.accessAllowed ? 'block' : 'none';\n",
              "\n",
              "      buttonEl.onclick = () => {\n",
              "        google.colab.notebook.generateWithVariable('df');\n",
              "      }\n",
              "      })();\n",
              "    </script>\n",
              "  </div>\n",
              "\n",
              "    </div>\n",
              "  </div>\n"
            ],
            "application/vnd.google.colaboratory.intrinsic+json": {
              "type": "dataframe",
              "variable_name": "df",
              "summary": "{\n  \"name\": \"df\",\n  \"rows\": 40402,\n  \"fields\": [\n    {\n      \"column\": \"Unnamed: 0\",\n      \"properties\": {\n        \"dtype\": \"number\",\n        \"std\": 15272,\n        \"min\": 0,\n        \"max\": 52446,\n        \"num_unique_values\": 40402,\n        \"samples\": [\n          1035,\n          16764,\n          50405\n        ],\n        \"semantic_type\": \"\",\n        \"description\": \"\"\n      }\n    },\n    {\n      \"column\": \"words\",\n      \"properties\": {\n        \"dtype\": \"string\",\n        \"num_unique_values\": 34398,\n        \"samples\": [\n          \"scurf\",\n          \"Stygian\",\n          \"crazily\"\n        ],\n        \"semantic_type\": \"\",\n        \"description\": \"\"\n      }\n    },\n    {\n      \"column\": \"IPA\",\n      \"properties\": {\n        \"dtype\": \"string\",\n        \"num_unique_values\": 33289,\n        \"samples\": [\n          \"tit@Utl,\",\n          \"\\u0251ntit@r\\u025e\",\n          \"haIspid\"\n        ],\n        \"semantic_type\": \"\",\n        \"description\": \"\"\n      }\n    }\n  ]\n}"
            }
          },
          "metadata": {},
          "execution_count": 11
        }
      ]
    },
    {
      "cell_type": "code",
      "source": [
        "words = np.asarray(df['words'], dtype = 'str')\n",
        "IPA = np.asarray(df['IPA'], dtype = 'str')"
      ],
      "metadata": {
        "id": "NnKbiRILEu-h"
      },
      "execution_count": 12,
      "outputs": []
    },
    {
      "cell_type": "code",
      "source": [
        "wordlist = [list(re.sub(\"[\\\\'\\\\,-\\\\./'~]\", '', i).lower()) for i in words]\n",
        "IPAlist = [list(re.sub(\"[\\\\'\\\\,-\\\\./'~]\", '', i)) for i in IPA]"
      ],
      "metadata": {
        "id": "RwCsPtOwE781"
      },
      "execution_count": 19,
      "outputs": []
    },
    {
      "cell_type": "code",
      "source": [
        "len(wordlist),len(IPAlist)"
      ],
      "metadata": {
        "colab": {
          "base_uri": "https://localhost:8080/"
        },
        "id": "EBcqQ8_cG4zZ",
        "outputId": "69cf1d26-0c38-47dd-b9ff-9187b4c15a32"
      },
      "execution_count": 30,
      "outputs": [
        {
          "output_type": "execute_result",
          "data": {
            "text/plain": [
              "(40402, 40402)"
            ]
          },
          "metadata": {},
          "execution_count": 30
        }
      ]
    },
    {
      "cell_type": "code",
      "source": [
        "words[-1],wordlist[-1]"
      ],
      "metadata": {
        "colab": {
          "base_uri": "https://localhost:8080/"
        },
        "id": "EZ_wnARtE9Qy",
        "outputId": "0992fbb5-b9ee-4e81-e6a4-05af2f75095b"
      },
      "execution_count": 26,
      "outputs": [
        {
          "output_type": "execute_result",
          "data": {
            "text/plain": [
              "('zucchini', ['z', 'u', 'c', 'c', 'h', 'i', 'n', 'i'])"
            ]
          },
          "metadata": {},
          "execution_count": 26
        }
      ]
    },
    {
      "cell_type": "code",
      "source": [
        "uniques_words = sorted(set(char for sublist in wordlist for char in sublist))\n",
        "uniques_ipa = sorted(set(char for sublist in IPAlist for char in sublist))\n",
        "print(uniques_words)\n",
        "print(uniques_ipa)"
      ],
      "metadata": {
        "colab": {
          "base_uri": "https://localhost:8080/"
        },
        "id": "KtnYuHpEFgrn",
        "outputId": "7e8bd92b-033e-4ea6-9646-cfe4e166a2ac"
      },
      "execution_count": 28,
      "outputs": [
        {
          "output_type": "stream",
          "name": "stdout",
          "text": [
            "['a', 'b', 'c', 'd', 'e', 'f', 'g', 'h', 'i', 'j', 'k', 'l', 'm', 'n', 'o', 'p', 'q', 'r', 's', 't', 'u', 'v', 'w', 'x', 'y', 'z']\n",
            "['3', '@', 'A', 'D', 'E', 'I', 'N', 'O', 'S', 'T', 'U', 'V', 'Z', 'a', 'b', 'd', 'e', 'f', 'g', 'h', 'i', 'j', 'k', 'l', 'm', 'n', 'p', 'r', 's', 't', 'u', 'v', 'w', 'x', 'z', 'ɑ', 'ɞ']\n"
          ]
        }
      ]
    },
    {
      "cell_type": "code",
      "source": [
        "wordlist[0]"
      ],
      "metadata": {
        "colab": {
          "base_uri": "https://localhost:8080/"
        },
        "id": "C_Z4tXKZIR22",
        "outputId": "d8203e79-4e1f-4881-ec45-48e7a554e651"
      },
      "execution_count": 38,
      "outputs": [
        {
          "output_type": "execute_result",
          "data": {
            "text/plain": [
              "['a']"
            ]
          },
          "metadata": {},
          "execution_count": 38
        }
      ]
    },
    {
      "cell_type": "code",
      "source": [
        "def to_feature_matrix(data, uniques, inherit_val = False, maxlist = False):\n",
        "  data = [[uniques.index(char) for char in sublist] for sublist in data]\n",
        "  if inherit_val:\n",
        "    maxval = max(len(sublist) for sublist in maxlist)\n",
        "  else:\n",
        "    maxval = max(len(sublist) for sublist in data)\n",
        "  out = []\n",
        "  for i in data:\n",
        "    m = np.zeros((len(uniques), maxval))\n",
        "    for jindex, j in enumerate(i):\n",
        "      m[j, jindex] = 1\n",
        "\n",
        "    out.append(m)\n",
        "  return np.asarray(out)"
      ],
      "metadata": {
        "id": "dGsO2OGtF7QG"
      },
      "execution_count": 29,
      "outputs": []
    },
    {
      "cell_type": "code",
      "source": [
        "data = to_feature_matrix(IPAlist, uniques_ipa)\n",
        "labels = to_feature_matrix(wordlist, uniques_words)"
      ],
      "metadata": {
        "id": "qVUoYPZCGu0M"
      },
      "execution_count": 32,
      "outputs": []
    },
    {
      "cell_type": "code",
      "source": [
        "len(uniques_words),len(uniques_ipa)"
      ],
      "metadata": {
        "colab": {
          "base_uri": "https://localhost:8080/"
        },
        "id": "HeHswRUhHCsV",
        "outputId": "09dac8b8-f93f-4e91-beb2-fc25633d80a5"
      },
      "execution_count": 33,
      "outputs": [
        {
          "output_type": "execute_result",
          "data": {
            "text/plain": [
              "(26, 37)"
            ]
          },
          "metadata": {},
          "execution_count": 33
        }
      ]
    },
    {
      "cell_type": "code",
      "source": [],
      "metadata": {
        "id": "FrXoixg6J9lp"
      },
      "execution_count": 43,
      "outputs": []
    },
    {
      "cell_type": "code",
      "source": [
        "newlabels = []\n",
        "for i in labels:\n",
        "  z = np.zeros(10)\n",
        "  z[np.where(np.sum(i, axis=0) == 0)] = 1\n",
        "  newlabels.append(np.vstack((i, z)))\n",
        "newlabels = np.asarray(newlabels)"
      ],
      "metadata": {
        "id": "0ieVIMgIHVmR"
      },
      "execution_count": 46,
      "outputs": []
    },
    {
      "cell_type": "code",
      "source": [],
      "metadata": {
        "id": "daCMG8IQHrAe"
      },
      "execution_count": 47,
      "outputs": []
    },
    {
      "cell_type": "code",
      "source": [
        "X_test, X_train, y_test, y_train = train_test_split(data, newlabels, test_size=0.8)\n",
        "input_size = y_test.shape[1:3]\n",
        "X_train_tensor = torch.tensor(X_train, dtype=torch.float32).unsqueeze(1)\n",
        "y_train_tensor = torch.tensor(y_train, dtype=torch.float32)\n",
        "X_test_tensor = torch.tensor(X_test, dtype=torch.float32).unsqueeze(1)\n",
        "y_test_tensor = torch.tensor(y_test, dtype=torch.float32)\n",
        "train_dataset = TensorDataset(X_train_tensor, y_train_tensor)\n",
        "test_dataset = TensorDataset(X_test_tensor, y_test_tensor)\n",
        "batch_size = 64\n",
        "train_loader = DataLoader(train_dataset, batch_size=batch_size)\n",
        "test_loader = DataLoader(test_dataset, batch_size=batch_size)"
      ],
      "metadata": {
        "id": "mzRyHdKnK4AM"
      },
      "execution_count": 48,
      "outputs": []
    },
    {
      "cell_type": "code",
      "source": [
        "input_size"
      ],
      "metadata": {
        "colab": {
          "base_uri": "https://localhost:8080/"
        },
        "id": "8M3TJgs1K8Rt",
        "outputId": "832d1b9d-05bb-4712-e365-eeab600d07f0"
      },
      "execution_count": 49,
      "outputs": [
        {
          "output_type": "execute_result",
          "data": {
            "text/plain": [
              "(27, 10)"
            ]
          },
          "metadata": {},
          "execution_count": 49
        }
      ]
    },
    {
      "cell_type": "code",
      "source": [
        "class Model(nn.Module):\n",
        "    def __init__(self):\n",
        "        super().__init__()\n",
        "    def fit(self, train_dl, val_dl, epochs):\n",
        "        optimizer = torch.optim.Adam(self.parameters(), lr=0.001)\n",
        "        self.trainlosses = []\n",
        "        self.vallosses = []\n",
        "        for epoch in range(epochs):\n",
        "            for data in train_dl:\n",
        "                optimizer.zero_grad()\n",
        "                X, y = data\n",
        "                pred = self.forward(X)\n",
        "                loss = self.loss_fn(pred[:,:,0], y[:,:,0])\n",
        "                for i in range(pred.shape[2]):\n",
        "                  loss += self.loss_fn(pred[:,:,i], y[:,:,i])\n",
        "                loss.backward()\n",
        "                optimizer.step()\n",
        "            train_loss = self.evaluate(train_dl).item()\n",
        "            val_loss = self.evaluate(val_dl).item()\n",
        "            self.trainlosses.append(train_loss)\n",
        "            self.vallosses.append(val_loss)\n",
        "            print(f\"Epoch [{epoch + 1}/{epochs}] - TrainLoss: {train_loss:.4f}, ValLoss: {val_loss:.4f}\")\n",
        "\n",
        "    def evaluate(self, val_dl):\n",
        "        losses = []\n",
        "        with torch.no_grad():\n",
        "            for data in val_dl:\n",
        "                X, y = data\n",
        "                pred = self.forward(X)\n",
        "                loss = self.loss_fn(pred, y)\n",
        "                losses.append(loss)\n",
        "        return torch.Tensor(losses).mean()\n",
        "\n",
        "    def predict(self, test_dl):\n",
        "        ys = []\n",
        "        preds = []\n",
        "        with torch.no_grad():\n",
        "            for data in test_dl:\n",
        "                X, y = data\n",
        "                pred = self.forward(X)\n",
        "                ys += y.detach()\n",
        "                preds += pred.detach()\n",
        "\n",
        "        return preds, ys\n"
      ],
      "metadata": {
        "id": "qsdJJkJfLAEB"
      },
      "execution_count": 50,
      "outputs": []
    },
    {
      "cell_type": "code",
      "source": [
        "fc1_input_size = x.reshape(x.size(0), -1).shape[1]"
      ],
      "metadata": {
        "id": "0XeXntWfL3tI"
      },
      "execution_count": null,
      "outputs": []
    },
    {
      "cell_type": "code",
      "source": [
        "class Network_CNN(Model):\n",
        "    def __init__(self, input_size):\n",
        "        super().__init__()\n",
        "        self.cv1 = nn.Conv2d(in_channels=1, out_channels=64, kernel_size=3)\n",
        "        self.cv2 = nn.Conv2d(in_channels=64, out_channels=32, kernel_size=3)\n",
        "        self.fc1 = nn.Linear(19008, 512)\n",
        "        self.fc2 = nn.Linear(512, input_size[0]*input_size[1])\n",
        "\n",
        "        self.relu = nn.ReLU()\n",
        "        self.loss_fn = nn.CrossEntropyLoss()\n",
        "\n",
        "    def forward(self, x):\n",
        "        x = self.relu(self.cv1(x))\n",
        "        x = self.relu(self.cv2(x))\n",
        "        x = x.reshape(x.size(0), -1)\n",
        "        x = self.relu(self.fc1(x))\n",
        "        x = self.fc2(x)\n",
        "        x = x.reshape(x.shape[0], input_size[0],input_size[1])\n",
        "\n",
        "        return x"
      ],
      "metadata": {
        "id": "-TwVfLoKLCVR"
      },
      "execution_count": 55,
      "outputs": []
    },
    {
      "cell_type": "code",
      "source": [
        "network_cnn = Network_CNN(input_size)\n",
        "network_cnn.fit(train_dl=train_loader, val_dl=test_loader, epochs=6)"
      ],
      "metadata": {
        "colab": {
          "base_uri": "https://localhost:8080/"
        },
        "id": "aT4hp_gfLDwJ",
        "outputId": "bd191959-d9e5-4dbf-d656-2171b2136799"
      },
      "execution_count": 56,
      "outputs": [
        {
          "output_type": "stream",
          "name": "stdout",
          "text": [
            "Epoch [1/6] - TrainLoss: 0.8182, ValLoss: 0.9199\n",
            "Epoch [2/6] - TrainLoss: 0.6780, ValLoss: 0.8350\n",
            "Epoch [3/6] - TrainLoss: 0.5935, ValLoss: 0.8037\n",
            "Epoch [4/6] - TrainLoss: 0.5205, ValLoss: 0.7944\n",
            "Epoch [5/6] - TrainLoss: 0.4695, ValLoss: 0.8118\n",
            "Epoch [6/6] - TrainLoss: 0.4391, ValLoss: 0.8556\n"
          ]
        }
      ]
    },
    {
      "cell_type": "code",
      "source": [],
      "metadata": {
        "id": "Irzbsz5ELFXC"
      },
      "execution_count": 56,
      "outputs": []
    },
    {
      "cell_type": "code",
      "source": [
        "def wordpred(ipa, model = network_cnn):\n",
        "  m = to_feature_matrix(ipa, uniques_ipa, True, IPAlist)\n",
        "  dl = DataLoader(TensorDataset(torch.tensor(m, dtype=torch.float32).unsqueeze(1), torch.tensor(m, dtype=torch.float32).unsqueeze(1)), batch_size=1)\n",
        "  p, y = model.predict(dl)\n",
        "  res = []\n",
        "  for idx, i in enumerate(p):\n",
        "    r = torch.argmax(i, dim=0)[:10]\n",
        "    r2 = [uniques_words[x] for l, x in enumerate(r) if l < r.tolist().index(26)]\n",
        "\n",
        "    res.append(r2)\n",
        "    print(\"\".join(r2))\n",
        "  return res"
      ],
      "metadata": {
        "id": "TkfMjTY-LQyo"
      },
      "execution_count": 70,
      "outputs": []
    },
    {
      "cell_type": "code",
      "source": [
        "wordpred([\"@beIs\",\"ɑbsInT\",\"krEdIt\",\"E@r@nOt\",\"E@h@Ul\"])"
      ],
      "metadata": {
        "colab": {
          "base_uri": "https://localhost:8080/"
        },
        "id": "DHHVg50nQ52I",
        "outputId": "08c07c5b-6366-48c0-b367-414adf2d15ab"
      },
      "execution_count": 71,
      "outputs": [
        {
          "output_type": "stream",
          "name": "stdout",
          "text": [
            "obase\n",
            "absinue\n",
            "creddt\n",
            "airenott\n",
            "airhll\n"
          ]
        },
        {
          "output_type": "execute_result",
          "data": {
            "text/plain": [
              "[['o', 'b', 'a', 's', 'e'],\n",
              " ['a', 'b', 's', 'i', 'n', 'u', 'e'],\n",
              " ['c', 'r', 'e', 'd', 'd', 't'],\n",
              " ['a', 'i', 'r', 'e', 'n', 'o', 't', 't'],\n",
              " ['a', 'i', 'r', 'h', 'l', 'l']]"
            ]
          },
          "metadata": {},
          "execution_count": 71
        }
      ]
    },
    {
      "cell_type": "code",
      "source": [],
      "metadata": {
        "id": "cZwXidzvSMKd"
      },
      "execution_count": 74,
      "outputs": []
    },
    {
      "cell_type": "code",
      "source": [],
      "metadata": {
        "id": "h9lzb0frSRrU"
      },
      "execution_count": null,
      "outputs": []
    }
  ]
}